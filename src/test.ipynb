{
 "cells": [
  {
   "cell_type": "code",
   "execution_count": 9,
   "id": "a33e96db-4864-42c0-9140-723cc71d244f",
   "metadata": {
    "tags": []
   },
   "outputs": [],
   "source": [
    "import pysr\n",
    "import numpy as np\n",
    "import matplotlib.pyplot as plt"
   ]
  },
  {
   "cell_type": "code",
   "execution_count": 3,
   "id": "71dedac7-4c5d-47e7-b1d1-54c590365c0e",
   "metadata": {
    "tags": []
   },
   "outputs": [],
   "source": [
    "X = 2 * np.random.randn(100, 5)\n",
    "y = 2.5382 * np.cos(X[:, 3]) + X[:, 0] ** 2 - 0.5"
   ]
  },
  {
   "cell_type": "code",
   "execution_count": 4,
   "id": "3c6cd478-68f6-4ef9-864d-819b0455c478",
   "metadata": {
    "tags": []
   },
   "outputs": [],
   "source": [
    "from pysr import PySRRegressor\n",
    "\n",
    "model = PySRRegressor(\n",
    "    niterations=40,  # < Increase me for better results\n",
    "    binary_operators=[\"+\", \"*\"],\n",
    "    unary_operators=[\n",
    "        \"cos\",\n",
    "        \"exp\",\n",
    "        \"sin\",\n",
    "        \"inv(x) = 1/x\",\n",
    "        # ^ Custom operator (julia syntax)\n",
    "    ],\n",
    "    extra_sympy_mappings={\"inv\": lambda x: 1 / x},\n",
    "    # ^ Define operator for SymPy as well\n",
    "    loss=\"loss(prediction, target) = (prediction - target)^2\",\n",
    "    # ^ Custom loss function (julia syntax)\n",
    ")"
   ]
  },
  {
   "cell_type": "code",
   "execution_count": 5,
   "id": "f04a6004-42c6-4314-a434-00b3d23d3468",
   "metadata": {
    "tags": []
   },
   "outputs": [
    {
     "name": "stderr",
     "output_type": "stream",
     "text": [
      "C:\\Users\\theowolf\\anaconda3\\envs\\torch_env\\lib\\site-packages\\pysr\\sr.py:1346: UserWarning: Note: it looks like you are running in Jupyter. The progress bar will be turned off.\n",
      "  warnings.warn(\n"
     ]
    },
    {
     "name": "stdout",
     "output_type": "stream",
     "text": [
      "Compiling Julia backend...\n"
     ]
    },
    {
     "data": {
      "text/html": [
       "<style>#sk-container-id-1 {color: black;background-color: white;}#sk-container-id-1 pre{padding: 0;}#sk-container-id-1 div.sk-toggleable {background-color: white;}#sk-container-id-1 label.sk-toggleable__label {cursor: pointer;display: block;width: 100%;margin-bottom: 0;padding: 0.3em;box-sizing: border-box;text-align: center;}#sk-container-id-1 label.sk-toggleable__label-arrow:before {content: \"▸\";float: left;margin-right: 0.25em;color: #696969;}#sk-container-id-1 label.sk-toggleable__label-arrow:hover:before {color: black;}#sk-container-id-1 div.sk-estimator:hover label.sk-toggleable__label-arrow:before {color: black;}#sk-container-id-1 div.sk-toggleable__content {max-height: 0;max-width: 0;overflow: hidden;text-align: left;background-color: #f0f8ff;}#sk-container-id-1 div.sk-toggleable__content pre {margin: 0.2em;color: black;border-radius: 0.25em;background-color: #f0f8ff;}#sk-container-id-1 input.sk-toggleable__control:checked~div.sk-toggleable__content {max-height: 200px;max-width: 100%;overflow: auto;}#sk-container-id-1 input.sk-toggleable__control:checked~label.sk-toggleable__label-arrow:before {content: \"▾\";}#sk-container-id-1 div.sk-estimator input.sk-toggleable__control:checked~label.sk-toggleable__label {background-color: #d4ebff;}#sk-container-id-1 div.sk-label input.sk-toggleable__control:checked~label.sk-toggleable__label {background-color: #d4ebff;}#sk-container-id-1 input.sk-hidden--visually {border: 0;clip: rect(1px 1px 1px 1px);clip: rect(1px, 1px, 1px, 1px);height: 1px;margin: -1px;overflow: hidden;padding: 0;position: absolute;width: 1px;}#sk-container-id-1 div.sk-estimator {font-family: monospace;background-color: #f0f8ff;border: 1px dotted black;border-radius: 0.25em;box-sizing: border-box;margin-bottom: 0.5em;}#sk-container-id-1 div.sk-estimator:hover {background-color: #d4ebff;}#sk-container-id-1 div.sk-parallel-item::after {content: \"\";width: 100%;border-bottom: 1px solid gray;flex-grow: 1;}#sk-container-id-1 div.sk-label:hover label.sk-toggleable__label {background-color: #d4ebff;}#sk-container-id-1 div.sk-serial::before {content: \"\";position: absolute;border-left: 1px solid gray;box-sizing: border-box;top: 0;bottom: 0;left: 50%;z-index: 0;}#sk-container-id-1 div.sk-serial {display: flex;flex-direction: column;align-items: center;background-color: white;padding-right: 0.2em;padding-left: 0.2em;position: relative;}#sk-container-id-1 div.sk-item {position: relative;z-index: 1;}#sk-container-id-1 div.sk-parallel {display: flex;align-items: stretch;justify-content: center;background-color: white;position: relative;}#sk-container-id-1 div.sk-item::before, #sk-container-id-1 div.sk-parallel-item::before {content: \"\";position: absolute;border-left: 1px solid gray;box-sizing: border-box;top: 0;bottom: 0;left: 50%;z-index: -1;}#sk-container-id-1 div.sk-parallel-item {display: flex;flex-direction: column;z-index: 1;position: relative;background-color: white;}#sk-container-id-1 div.sk-parallel-item:first-child::after {align-self: flex-end;width: 50%;}#sk-container-id-1 div.sk-parallel-item:last-child::after {align-self: flex-start;width: 50%;}#sk-container-id-1 div.sk-parallel-item:only-child::after {width: 0;}#sk-container-id-1 div.sk-dashed-wrapped {border: 1px dashed gray;margin: 0 0.4em 0.5em 0.4em;box-sizing: border-box;padding-bottom: 0.4em;background-color: white;}#sk-container-id-1 div.sk-label label {font-family: monospace;font-weight: bold;display: inline-block;line-height: 1.2em;}#sk-container-id-1 div.sk-label-container {text-align: center;}#sk-container-id-1 div.sk-container {/* jupyter's `normalize.less` sets `[hidden] { display: none; }` but bootstrap.min.css set `[hidden] { display: none !important; }` so we also need the `!important` here to be able to override the default hidden behavior on the sphinx rendered scikit-learn.org. See: https://github.com/scikit-learn/scikit-learn/issues/21755 */display: inline-block !important;position: relative;}#sk-container-id-1 div.sk-text-repr-fallback {display: none;}</style><div id=\"sk-container-id-1\" class=\"sk-top-container\"><div class=\"sk-text-repr-fallback\"><pre>PySRRegressor.equations_ = [\n",
       "\t   pick      score                                           equation  \\\n",
       "\t0         0.000000                                          4.1805015   \n",
       "\t1         1.107083                                          (x0 * x0)   \n",
       "\t2         0.001237                            ((x0 * 0.9869162) * x0)   \n",
       "\t3         0.960104                              ((x0 * x0) + cos(x3))   \n",
       "\t4         0.793615                ((x0 * x0) + (cos(x3) * 2.3477585))   \n",
       "\t5         0.009288            ((x0 * x0) + (sin(cos(x3)) * 2.674943))   \n",
       "\t6        27.422654       ((x0 * x0) + ((cos(x3) * 2.5382001) + -0.5))   \n",
       "\t7         0.016198  ((x0 * x0) + (((cos(x3) * 1.6765549) * 1.51393...   \n",
       "\t8         0.067533  ((x0 * (x0 * inv(1.0))) + ((cos(x3) * 2.538200...   \n",
       "\t9  &gt;&gt;&gt;&gt;   0.157685  (((x0 * x0) + ((cos(x3) + -0.22344112) * 2.538...   \n",
       "\t\n",
       "\t           loss  complexity  \n",
       "\t0  2.719070e+01           1  \n",
       "\t1  2.970439e+00           3  \n",
       "\t2  2.963096e+00           5  \n",
       "\t3  1.134430e+00           6  \n",
       "\t4  2.319809e-01           8  \n",
       "\t5  2.298363e-01           9  \n",
       "\t6  2.830815e-13          10  \n",
       "\t7  2.740576e-13          12  \n",
       "\t8  2.561608e-13          13  \n",
       "\t9  1.868740e-13          15  \n",
       "]</pre><b>In a Jupyter environment, please rerun this cell to show the HTML representation or trust the notebook. <br />On GitHub, the HTML representation is unable to render, please try loading this page with nbviewer.org.</b></div><div class=\"sk-container\" hidden><div class=\"sk-item\"><div class=\"sk-estimator sk-toggleable\"><input class=\"sk-toggleable__control sk-hidden--visually\" id=\"sk-estimator-id-1\" type=\"checkbox\" checked><label for=\"sk-estimator-id-1\" class=\"sk-toggleable__label sk-toggleable__label-arrow\">PySRRegressor</label><div class=\"sk-toggleable__content\"><pre>PySRRegressor.equations_ = [\n",
       "\t   pick      score                                           equation  \\\n",
       "\t0         0.000000                                          4.1805015   \n",
       "\t1         1.107083                                          (x0 * x0)   \n",
       "\t2         0.001237                            ((x0 * 0.9869162) * x0)   \n",
       "\t3         0.960104                              ((x0 * x0) + cos(x3))   \n",
       "\t4         0.793615                ((x0 * x0) + (cos(x3) * 2.3477585))   \n",
       "\t5         0.009288            ((x0 * x0) + (sin(cos(x3)) * 2.674943))   \n",
       "\t6        27.422654       ((x0 * x0) + ((cos(x3) * 2.5382001) + -0.5))   \n",
       "\t7         0.016198  ((x0 * x0) + (((cos(x3) * 1.6765549) * 1.51393...   \n",
       "\t8         0.067533  ((x0 * (x0 * inv(1.0))) + ((cos(x3) * 2.538200...   \n",
       "\t9  &gt;&gt;&gt;&gt;   0.157685  (((x0 * x0) + ((cos(x3) + -0.22344112) * 2.538...   \n",
       "\t\n",
       "\t           loss  complexity  \n",
       "\t0  2.719070e+01           1  \n",
       "\t1  2.970439e+00           3  \n",
       "\t2  2.963096e+00           5  \n",
       "\t3  1.134430e+00           6  \n",
       "\t4  2.319809e-01           8  \n",
       "\t5  2.298363e-01           9  \n",
       "\t6  2.830815e-13          10  \n",
       "\t7  2.740576e-13          12  \n",
       "\t8  2.561608e-13          13  \n",
       "\t9  1.868740e-13          15  \n",
       "]</pre></div></div></div></div></div>"
      ],
      "text/plain": [
       "PySRRegressor.equations_ = [\n",
       "\t   pick      score                                           equation  \\\n",
       "\t0         0.000000                                          4.1805015   \n",
       "\t1         1.107083                                          (x0 * x0)   \n",
       "\t2         0.001237                            ((x0 * 0.9869162) * x0)   \n",
       "\t3         0.960104                              ((x0 * x0) + cos(x3))   \n",
       "\t4         0.793615                ((x0 * x0) + (cos(x3) * 2.3477585))   \n",
       "\t5         0.009288            ((x0 * x0) + (sin(cos(x3)) * 2.674943))   \n",
       "\t6        27.422654       ((x0 * x0) + ((cos(x3) * 2.5382001) + -0.5))   \n",
       "\t7         0.016198  ((x0 * x0) + (((cos(x3) * 1.6765549) * 1.51393...   \n",
       "\t8         0.067533  ((x0 * (x0 * inv(1.0))) + ((cos(x3) * 2.538200...   \n",
       "\t9  >>>>   0.157685  (((x0 * x0) + ((cos(x3) + -0.22344112) * 2.538...   \n",
       "\t\n",
       "\t           loss  complexity  \n",
       "\t0  2.719070e+01           1  \n",
       "\t1  2.970439e+00           3  \n",
       "\t2  2.963096e+00           5  \n",
       "\t3  1.134430e+00           6  \n",
       "\t4  2.319809e-01           8  \n",
       "\t5  2.298363e-01           9  \n",
       "\t6  2.830815e-13          10  \n",
       "\t7  2.740576e-13          12  \n",
       "\t8  2.561608e-13          13  \n",
       "\t9  1.868740e-13          15  \n",
       "]"
      ]
     },
     "execution_count": 5,
     "metadata": {},
     "output_type": "execute_result"
    }
   ],
   "source": [
    "model.fit(X, y)"
   ]
  },
  {
   "cell_type": "code",
   "execution_count": 6,
   "id": "707f018e-ae71-4324-a74f-4751f838856d",
   "metadata": {
    "tags": []
   },
   "outputs": [
    {
     "name": "stdout",
     "output_type": "stream",
     "text": [
      "PySRRegressor.equations_ = [\n",
      "\t   pick      score                                           equation  \\\n",
      "\t0         0.000000                                          4.1805015   \n",
      "\t1         1.107083                                          (x0 * x0)   \n",
      "\t2         0.001237                            ((x0 * 0.9869162) * x0)   \n",
      "\t3         0.960104                              ((x0 * x0) + cos(x3))   \n",
      "\t4         0.793615                ((x0 * x0) + (cos(x3) * 2.3477585))   \n",
      "\t5         0.009288            ((x0 * x0) + (sin(cos(x3)) * 2.674943))   \n",
      "\t6        27.422654       ((x0 * x0) + ((cos(x3) * 2.5382001) + -0.5))   \n",
      "\t7         0.016198  ((x0 * x0) + (((cos(x3) * 1.6765549) * 1.51393...   \n",
      "\t8         0.067533  ((x0 * (x0 * inv(1.0))) + ((cos(x3) * 2.538200...   \n",
      "\t9  >>>>   0.157685  (((x0 * x0) + ((cos(x3) + -0.22344112) * 2.538...   \n",
      "\t\n",
      "\t           loss  complexity  \n",
      "\t0  2.719070e+01           1  \n",
      "\t1  2.970439e+00           3  \n",
      "\t2  2.963096e+00           5  \n",
      "\t3  1.134430e+00           6  \n",
      "\t4  2.319809e-01           8  \n",
      "\t5  2.298363e-01           9  \n",
      "\t6  2.830815e-13          10  \n",
      "\t7  2.740576e-13          12  \n",
      "\t8  2.561608e-13          13  \n",
      "\t9  1.868740e-13          15  \n",
      "]\n"
     ]
    }
   ],
   "source": [
    "print(model)"
   ]
  },
  {
   "cell_type": "code",
   "execution_count": 8,
   "id": "eaff300d-cdfd-47f8-afa7-24d48f6a641b",
   "metadata": {
    "tags": []
   },
   "outputs": [
    {
     "data": {
      "text/latex": [
       "$\\displaystyle x_{0}^{2} + 2.5382001 \\cos{\\left(x_{3} \\right)} - 0.499999850616339$"
      ],
      "text/plain": [
       "x0**2 + 2.5382001*cos(x3) - 0.499999850616339"
      ]
     },
     "execution_count": 8,
     "metadata": {},
     "output_type": "execute_result"
    }
   ],
   "source": [
    "model.sympy()"
   ]
  },
  {
   "cell_type": "code",
   "execution_count": 13,
   "id": "d1357bb0-786b-40e4-bf33-ea443af406af",
   "metadata": {
    "tags": []
   },
   "outputs": [],
   "source": [
    "from src.cooling import diff_equations"
   ]
  },
  {
   "cell_type": "code",
   "execution_count": 33,
   "id": "89eb3e6c-f6bf-45d7-b188-f745cf53c910",
   "metadata": {
    "tags": []
   },
   "outputs": [],
   "source": [
    "T0 = 100\n",
    "Tenv = 25\n",
    "R = 0.05\n",
    "time = np.linspace(0, 1000, 1000)\n",
    "Ts = diff_equations.cooling_law(time, Tenv, T0, R)"
   ]
  },
  {
   "cell_type": "code",
   "execution_count": 34,
   "id": "c485fce0-6872-48eb-baff-08b3f266a5ed",
   "metadata": {
    "tags": []
   },
   "outputs": [
    {
     "data": {
      "text/plain": [
       "[<matplotlib.lines.Line2D at 0x1578c613730>]"
      ]
     },
     "execution_count": 34,
     "metadata": {},
     "output_type": "execute_result"
    },
    {
     "data": {
      "image/png": "[encoded data removed]",
      "text/plain": [
       "<Figure size 640x480 with 1 Axes>"
      ]
     },
     "metadata": {},
     "output_type": "display_data"
    }
   ],
   "source": [
    "plt.plot(time, Ts)"
   ]
  },
  {
   "cell_type": "markdown",
   "id": "05aefa7c-3301-449c-bb16-cbbaf0b0d501",
   "metadata": {},
   "source": [
    "$$T = T_{env} + (T_0-T_{env})e^{-Rt}$$"
   ]
  },
  {
   "cell_type": "code",
   "execution_count": 38,
   "id": "8c82965e-44e2-4bbf-b72f-45cf4c1cf0b0",
   "metadata": {
    "tags": []
   },
   "outputs": [],
   "source": [
    "model1 = PySRRegressor(\n",
    "    niterations=1000,  # < Increase me for better results\n",
    "    binary_operators=[\"+\", \"*\"],\n",
    "    unary_operators=[\n",
    "        # \"cos\",\n",
    "        \"exp\",\n",
    "        # \"sin\",\n",
    "        # \"inv(x) = 1/x\",\n",
    "        # ^ Custom operator (julia syntax)\n",
    "    ],\n",
    "    # extra_sympy_mappings={\"inv\": lambda x: 1 / x},\n",
    "    # ^ Define operator for SymPy as well\n",
    "    loss=\"loss(prediction, target) = (prediction - target)^2\",\n",
    "    # ^ Custom loss function (julia syntax)\n",
    ")"
   ]
  },
  {
   "cell_type": "code",
   "execution_count": 39,
   "id": "62b6c034-b734-4fcb-9565-7736a1c1a339",
   "metadata": {
    "tags": []
   },
   "outputs": [
    {
     "name": "stderr",
     "output_type": "stream",
     "text": [
      "C:\\Users\\theowolf\\anaconda3\\envs\\torch_env\\lib\\site-packages\\pysr\\sr.py:1346: UserWarning: Note: it looks like you are running in Jupyter. The progress bar will be turned off.\n",
      "  warnings.warn(\n"
     ]
    },
    {
     "data": {
      "text/html": [
       "<style>#sk-container-id-7 {color: black;background-color: white;}#sk-container-id-7 pre{padding: 0;}#sk-container-id-7 div.sk-toggleable {background-color: white;}#sk-container-id-7 label.sk-toggleable__label {cursor: pointer;display: block;width: 100%;margin-bottom: 0;padding: 0.3em;box-sizing: border-box;text-align: center;}#sk-container-id-7 label.sk-toggleable__label-arrow:before {content: \"▸\";float: left;margin-right: 0.25em;color: #696969;}#sk-container-id-7 label.sk-toggleable__label-arrow:hover:before {color: black;}#sk-container-id-7 div.sk-estimator:hover label.sk-toggleable__label-arrow:before {color: black;}#sk-container-id-7 div.sk-toggleable__content {max-height: 0;max-width: 0;overflow: hidden;text-align: left;background-color: #f0f8ff;}#sk-container-id-7 div.sk-toggleable__content pre {margin: 0.2em;color: black;border-radius: 0.25em;background-color: #f0f8ff;}#sk-container-id-7 input.sk-toggleable__control:checked~div.sk-toggleable__content {max-height: 200px;max-width: 100%;overflow: auto;}#sk-container-id-7 input.sk-toggleable__control:checked~label.sk-toggleable__label-arrow:before {content: \"▾\";}#sk-container-id-7 div.sk-estimator input.sk-toggleable__control:checked~label.sk-toggleable__label {background-color: #d4ebff;}#sk-container-id-7 div.sk-label input.sk-toggleable__control:checked~label.sk-toggleable__label {background-color: #d4ebff;}#sk-container-id-7 input.sk-hidden--visually {border: 0;clip: rect(1px 1px 1px 1px);clip: rect(1px, 1px, 1px, 1px);height: 1px;margin: -1px;overflow: hidden;padding: 0;position: absolute;width: 1px;}#sk-container-id-7 div.sk-estimator {font-family: monospace;background-color: #f0f8ff;border: 1px dotted black;border-radius: 0.25em;box-sizing: border-box;margin-bottom: 0.5em;}#sk-container-id-7 div.sk-estimator:hover {background-color: #d4ebff;}#sk-container-id-7 div.sk-parallel-item::after {content: \"\";width: 100%;border-bottom: 1px solid gray;flex-grow: 1;}#sk-container-id-7 div.sk-label:hover label.sk-toggleable__label {background-color: #d4ebff;}#sk-container-id-7 div.sk-serial::before {content: \"\";position: absolute;border-left: 1px solid gray;box-sizing: border-box;top: 0;bottom: 0;left: 50%;z-index: 0;}#sk-container-id-7 div.sk-serial {display: flex;flex-direction: column;align-items: center;background-color: white;padding-right: 0.2em;padding-left: 0.2em;position: relative;}#sk-container-id-7 div.sk-item {position: relative;z-index: 1;}#sk-container-id-7 div.sk-parallel {display: flex;align-items: stretch;justify-content: center;background-color: white;position: relative;}#sk-container-id-7 div.sk-item::before, #sk-container-id-7 div.sk-parallel-item::before {content: \"\";position: absolute;border-left: 1px solid gray;box-sizing: border-box;top: 0;bottom: 0;left: 50%;z-index: -1;}#sk-container-id-7 div.sk-parallel-item {display: flex;flex-direction: column;z-index: 1;position: relative;background-color: white;}#sk-container-id-7 div.sk-parallel-item:first-child::after {align-self: flex-end;width: 50%;}#sk-container-id-7 div.sk-parallel-item:last-child::after {align-self: flex-start;width: 50%;}#sk-container-id-7 div.sk-parallel-item:only-child::after {width: 0;}#sk-container-id-7 div.sk-dashed-wrapped {border: 1px dashed gray;margin: 0 0.4em 0.5em 0.4em;box-sizing: border-box;padding-bottom: 0.4em;background-color: white;}#sk-container-id-7 div.sk-label label {font-family: monospace;font-weight: bold;display: inline-block;line-height: 1.2em;}#sk-container-id-7 div.sk-label-container {text-align: center;}#sk-container-id-7 div.sk-container {/* jupyter's `normalize.less` sets `[hidden] { display: none; }` but bootstrap.min.css set `[hidden] { display: none !important; }` so we also need the `!important` here to be able to override the default hidden behavior on the sphinx rendered scikit-learn.org. See: https://github.com/scikit-learn/scikit-learn/issues/21755 */display: inline-block !important;position: relative;}#sk-container-id-7 div.sk-text-repr-fallback {display: none;}</style><div id=\"sk-container-id-7\" class=\"sk-top-container\"><div class=\"sk-text-repr-fallback\"><pre>PySRRegressor.equations_ = [\n",
       "\t   pick      score                                           equation  \\\n",
       "\t0         0.000000                                          26.536383   \n",
       "\t1         0.030574                  ((-0.008840026 * x0) + 30.956694)   \n",
       "\t2         0.013203              (32.07935 * exp(-0.00036849713 * x0))   \n",
       "\t3         1.883605          (25.494444 * exp(exp(-0.023698073 * x0)))   \n",
       "\t4        13.005202  ((75.05148 * exp(-0.050036505 * x0)) + 24.998533)   \n",
       "\t5         0.276458  (((75.22029 + -0.19764063) * exp(-0.050036505 ...   \n",
       "\t6         0.641018  ((75.22029 * exp(-0.050036505 * ((x0 * 0.99940...   \n",
       "\t7  &gt;&gt;&gt;&gt;   1.172352  ((75.22029 * exp(-0.050036505 * ((x0 * 0.99940...   \n",
       "\t8         0.005809  (((75.22029 * exp(-0.050036505 * ((x0 * 0.9994...   \n",
       "\t9         0.019512  (((75.22029 * exp(-0.050036505 * ((x0 * 0.9994...   \n",
       "\t\n",
       "\t           loss  complexity  \n",
       "\t0  5.669285e+01           1  \n",
       "\t1  5.016682e+01           5  \n",
       "\t2  4.950882e+01           6  \n",
       "\t3  7.527368e+00           7  \n",
       "\t4  1.692605e-05           8  \n",
       "\t5  9.737050e-06          10  \n",
       "\t6  2.701759e-06          12  \n",
       "\t7  2.590326e-07          14  \n",
       "\t8  2.560408e-07          16  \n",
       "\t9  2.414833e-07          19  \n",
       "]</pre><b>In a Jupyter environment, please rerun this cell to show the HTML representation or trust the notebook. <br />On GitHub, the HTML representation is unable to render, please try loading this page with nbviewer.org.</b></div><div class=\"sk-container\" hidden><div class=\"sk-item\"><div class=\"sk-estimator sk-toggleable\"><input class=\"sk-toggleable__control sk-hidden--visually\" id=\"sk-estimator-id-7\" type=\"checkbox\" checked><label for=\"sk-estimator-id-7\" class=\"sk-toggleable__label sk-toggleable__label-arrow\">PySRRegressor</label><div class=\"sk-toggleable__content\"><pre>PySRRegressor.equations_ = [\n",
       "\t   pick      score                                           equation  \\\n",
       "\t0         0.000000                                          26.536383   \n",
       "\t1         0.030574                  ((-0.008840026 * x0) + 30.956694)   \n",
       "\t2         0.013203              (32.07935 * exp(-0.00036849713 * x0))   \n",
       "\t3         1.883605          (25.494444 * exp(exp(-0.023698073 * x0)))   \n",
       "\t4        13.005202  ((75.05148 * exp(-0.050036505 * x0)) + 24.998533)   \n",
       "\t5         0.276458  (((75.22029 + -0.19764063) * exp(-0.050036505 ...   \n",
       "\t6         0.641018  ((75.22029 * exp(-0.050036505 * ((x0 * 0.99940...   \n",
       "\t7  &gt;&gt;&gt;&gt;   1.172352  ((75.22029 * exp(-0.050036505 * ((x0 * 0.99940...   \n",
       "\t8         0.005809  (((75.22029 * exp(-0.050036505 * ((x0 * 0.9994...   \n",
       "\t9         0.019512  (((75.22029 * exp(-0.050036505 * ((x0 * 0.9994...   \n",
       "\t\n",
       "\t           loss  complexity  \n",
       "\t0  5.669285e+01           1  \n",
       "\t1  5.016682e+01           5  \n",
       "\t2  4.950882e+01           6  \n",
       "\t3  7.527368e+00           7  \n",
       "\t4  1.692605e-05           8  \n",
       "\t5  9.737050e-06          10  \n",
       "\t6  2.701759e-06          12  \n",
       "\t7  2.590326e-07          14  \n",
       "\t8  2.560408e-07          16  \n",
       "\t9  2.414833e-07          19  \n",
       "]</pre></div></div></div></div></div>"
      ],
      "text/plain": [
       "PySRRegressor.equations_ = [\n",
       "\t   pick      score                                           equation  \\\n",
       "\t0         0.000000                                          26.536383   \n",
       "\t1         0.030574                  ((-0.008840026 * x0) + 30.956694)   \n",
       "\t2         0.013203              (32.07935 * exp(-0.00036849713 * x0))   \n",
       "\t3         1.883605          (25.494444 * exp(exp(-0.023698073 * x0)))   \n",
       "\t4        13.005202  ((75.05148 * exp(-0.050036505 * x0)) + 24.998533)   \n",
       "\t5         0.276458  (((75.22029 + -0.19764063) * exp(-0.050036505 ...   \n",
       "\t6         0.641018  ((75.22029 * exp(-0.050036505 * ((x0 * 0.99940...   \n",
       "\t7  >>>>   1.172352  ((75.22029 * exp(-0.050036505 * ((x0 * 0.99940...   \n",
       "\t8         0.005809  (((75.22029 * exp(-0.050036505 * ((x0 * 0.9994...   \n",
       "\t9         0.019512  (((75.22029 * exp(-0.050036505 * ((x0 * 0.9994...   \n",
       "\t\n",
       "\t           loss  complexity  \n",
       "\t0  5.669285e+01           1  \n",
       "\t1  5.016682e+01           5  \n",
       "\t2  4.950882e+01           6  \n",
       "\t3  7.527368e+00           7  \n",
       "\t4  1.692605e-05           8  \n",
       "\t5  9.737050e-06          10  \n",
       "\t6  2.701759e-06          12  \n",
       "\t7  2.590326e-07          14  \n",
       "\t8  2.560408e-07          16  \n",
       "\t9  2.414833e-07          19  \n",
       "]"
      ]
     },
     "execution_count": 39,
     "metadata": {},
     "output_type": "execute_result"
    }
   ],
   "source": [
    "model1.fit(time.reshape(-1,1), Ts.reshape(-1, 1))"
   ]
  },
  {
   "cell_type": "code",
   "execution_count": 40,
   "id": "cd608b98-69c5-44d9-aa8c-29c932dd8703",
   "metadata": {
    "tags": []
   },
   "outputs": [
    {
     "data": {
      "text/latex": [
       "$\\displaystyle 24.9999654194 + 75.004550915297 e^{- 0.0500065196236487 x_{0}}$"
      ],
      "text/plain": [
       "24.9999654194 + 75.004550915297*exp(-0.0500065196236487*x0)"
      ]
     },
     "execution_count": 40,
     "metadata": {},
     "output_type": "execute_result"
    }
   ],
   "source": [
    "model1.sympy()"
   ]
  },
  {
   "cell_type": "code",
   "execution_count": null,
   "id": "7933a346-f4d2-4fa1-a020-99fc19f37436",
   "metadata": {},
   "outputs": [],
   "source": []
  }
 ],
 "metadata": {
  "kernelspec": {
   "display_name": "Python 3 (ipykernel)",
   "language": "python",
   "name": "python3"
  },
  "language_info": {
   "codemirror_mode": {
    "name": "ipython",
    "version": 3
   },
   "file_extension": ".py",
   "mimetype": "text/x-python",
   "name": "python",
   "nbconvert_exporter": "python",
   "pygments_lexer": "ipython3",
   "version": "3.10.9"
  }
 },
 "nbformat": 4,
 "nbformat_minor": 5
}
